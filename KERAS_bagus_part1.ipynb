{
  "nbformat": 4,
  "nbformat_minor": 0,
  "metadata": {
    "colab": {
      "name": "KERAS_bagus_part1.ipynb",
      "version": "0.3.2",
      "provenance": [],
      "collapsed_sections": [],
      "include_colab_link": true
    },
    "kernelspec": {
      "name": "python3",
      "display_name": "Python 3"
    }
  },
  "cells": [
    {
      "cell_type": "markdown",
      "metadata": {
        "id": "view-in-github",
        "colab_type": "text"
      },
      "source": [
        "<a href=\"https://colab.research.google.com/github/3ndung/Catetan_Belajar_Machine_learning/blob/master/KERAS_bagus_part1.ipynb\" target=\"_parent\"><img src=\"https://colab.research.google.com/assets/colab-badge.svg\" alt=\"Open In Colab\"/></a>"
      ]
    },
    {
      "metadata": {
        "id": "khOYQjeTMrfn",
        "colab_type": "code",
        "outputId": "73ef3552-4615-4140-8d9f-ec0d255445b8",
        "colab": {
          "resources": {
            "http://localhost:8080/nbextensions/google.colab/files.js": {
              "data": "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",
              "ok": true,
              "headers": [
                [
                  "content-type",
                  "application/javascript"
                ]
              ],
              "status": 200,
              "status_text": ""
            }
          },
          "base_uri": "https://localhost:8080/",
          "height": 73
        }
      },
      "cell_type": "code",
      "source": [
        "from google.colab import files\n",
        "\n",
        "uploaded = files.upload()"
      ],
      "execution_count": 0,
      "outputs": [
        {
          "output_type": "display_data",
          "data": {
            "text/html": [
              "\n",
              "     <input type=\"file\" id=\"files-04a2015c-4553-419f-810a-be69941b5d18\" name=\"files[]\" multiple disabled />\n",
              "     <output id=\"result-04a2015c-4553-419f-810a-be69941b5d18\">\n",
              "      Upload widget is only available when the cell has been executed in the\n",
              "      current browser session. Please rerun this cell to enable.\n",
              "      </output>\n",
              "      <script src=\"/nbextensions/google.colab/files.js\"></script> "
            ],
            "text/plain": [
              "<IPython.core.display.HTML object>"
            ]
          },
          "metadata": {
            "tags": []
          }
        },
        {
          "output_type": "stream",
          "text": [
            "Saving proposed_new_product.csv to proposed_new_product.csv\n"
          ],
          "name": "stdout"
        }
      ]
    },
    {
      "metadata": {
        "id": "pWQSdvlGNL9Y",
        "colab_type": "text"
      },
      "cell_type": "markdown",
      "source": [
        "# Diatas adalah upload file yang akan digunakan sebagai test & training bold text"
      ]
    },
    {
      "metadata": {
        "id": "NPPD1wZeNT8i",
        "colab_type": "code",
        "colab": {}
      },
      "cell_type": "code",
      "source": [
        "import pandas as pd\n",
        "from sklearn.preprocessing import MinMaxScaler\n"
      ],
      "execution_count": 0,
      "outputs": []
    },
    {
      "metadata": {
        "id": "gK5k2M-rNzdZ",
        "colab_type": "code",
        "outputId": "a3e285f3-5746-4ea0-98aa-7988c1ba0346",
        "colab": {
          "base_uri": "https://localhost:8080/",
          "height": 82
        }
      },
      "cell_type": "code",
      "source": [
        "ls\n"
      ],
      "execution_count": 0,
      "outputs": [
        {
          "output_type": "stream",
          "text": [
            "3ndung.h5            sales_data_training.csv  test.csv\n",
            "sales_data_test.csv  \u001b[0m\u001b[01;34msample_data\u001b[0m/             training.csv\n"
          ],
          "name": "stdout"
        }
      ]
    },
    {
      "metadata": {
        "id": "2bWXnBpDOKm4",
        "colab_type": "code",
        "colab": {}
      },
      "cell_type": "code",
      "source": [
        "#Ngeload data yang tadi kita upload dan masih mentah \n",
        "\n",
        "training_data_1 = pd.read_csv(\"/content/sales_data_training.csv\")\n",
        "test_data_1 = pd.read_csv(\"/content/sales_data_test.csv\")\n",
        "\n",
        "scaler = MinMaxScaler(feature_range=(0,1))"
      ],
      "execution_count": 0,
      "outputs": []
    },
    {
      "metadata": {
        "id": "orXLnwFJO99j",
        "colab_type": "code",
        "outputId": "9ef3aea9-3cc7-4290-c5d2-6bf859e4ec19",
        "colab": {
          "base_uri": "https://localhost:8080/",
          "height": 171
        }
      },
      "cell_type": "code",
      "source": [
        "training_data_2 = scaler.fit_transform(training_data_1)\n",
        "test_data_2 = scaler.transform(test_data_1)"
      ],
      "execution_count": 0,
      "outputs": [
        {
          "output_type": "stream",
          "text": [
            "/usr/local/lib/python3.6/dist-packages/sklearn/preprocessing/data.py:323: DataConversionWarning: Data with input dtype int64, float64 were all converted to float64 by MinMaxScaler.\n",
            "  return self.partial_fit(X, y)\n"
          ],
          "name": "stderr"
        }
      ]
    },
    {
      "metadata": {
        "id": "R55AqokfPgo_",
        "colab_type": "code",
        "outputId": "163b4b28-1815-4bd0-8dbb-6ce762c42f56",
        "colab": {
          "base_uri": "https://localhost:8080/",
          "height": 34
        }
      },
      "cell_type": "code",
      "source": [
        "#Nilai yang nantinya akan kita adjust untuk prediksi \n",
        "print(\" Nilai multiplying by {:.10f} and adding {:.6f}\".format(scaler.scale_[8], scaler.min_[8]))"
      ],
      "execution_count": 0,
      "outputs": [
        {
          "output_type": "stream",
          "text": [
            " Nilai multiplying by 0.0000036968 and adding -0.115913\n"
          ],
          "name": "stdout"
        }
      ]
    },
    {
      "metadata": {
        "id": "j6PUQ-QXPWFL",
        "colab_type": "code",
        "colab": {}
      },
      "cell_type": "code",
      "source": [
        "training_data = pd.DataFrame(training_data_2, columns=training_data_1.columns.values)\n",
        "test_data = pd.DataFrame(test_data_2, columns=test_data_1.columns.values)"
      ],
      "execution_count": 0,
      "outputs": []
    },
    {
      "metadata": {
        "id": "o6GP8NTVQi7F",
        "colab_type": "text"
      },
      "cell_type": "markdown",
      "source": [
        "# Generate Data OK yang sudah di scaling "
      ]
    },
    {
      "metadata": {
        "id": "cv_NSkD1QrBl",
        "colab_type": "code",
        "colab": {}
      },
      "cell_type": "code",
      "source": [
        "training_data.to_csv(\"training.csv\", index=False)\n",
        "test_data.to_csv(\"test.csv\", index=False)"
      ],
      "execution_count": 0,
      "outputs": []
    },
    {
      "metadata": {
        "id": "ZcFeRkuaQ6gC",
        "colab_type": "code",
        "outputId": "69f253bc-5405-49a9-a830-46fe85f542df",
        "colab": {
          "base_uri": "https://localhost:8080/",
          "height": 82
        }
      },
      "cell_type": "code",
      "source": [
        "ls"
      ],
      "execution_count": 0,
      "outputs": [
        {
          "output_type": "stream",
          "text": [
            "3ndung.h5            sales_data_training.csv  test.csv\n",
            "sales_data_test.csv  \u001b[0m\u001b[01;34msample_data\u001b[0m/             training.csv\n"
          ],
          "name": "stdout"
        }
      ]
    },
    {
      "metadata": {
        "id": "jWHBq4DcRT95",
        "colab_type": "text"
      },
      "cell_type": "markdown",
      "source": [
        "# Buat_Model"
      ]
    },
    {
      "metadata": {
        "id": "12djGVHwRbDJ",
        "colab_type": "code",
        "colab": {}
      },
      "cell_type": "code",
      "source": [
        "from keras.models import Sequential\n",
        "from keras.layers import *"
      ],
      "execution_count": 0,
      "outputs": []
    },
    {
      "metadata": {
        "id": "_meCvg9iRn4G",
        "colab_type": "code",
        "colab": {}
      },
      "cell_type": "code",
      "source": [
        "Data_Training = pd.read_csv(\"/content/training.csv\")\n",
        "Data_Test = pd.read_csv(\"/content/test.csv\")"
      ],
      "execution_count": 0,
      "outputs": []
    },
    {
      "metadata": {
        "id": "ssfr0ggpR8Ui",
        "colab_type": "code",
        "outputId": "0676a530-d9ae-498b-adb9-174f11c1a45b",
        "colab": {
          "base_uri": "https://localhost:8080/",
          "height": 85
        }
      },
      "cell_type": "code",
      "source": [
        "#membuat Feature dan label\n",
        "#Check Column yang akan digunakan sebagai feature dan label\n",
        "\n",
        "Data_Training.columns"
      ],
      "execution_count": 0,
      "outputs": [
        {
          "output_type": "execute_result",
          "data": {
            "text/plain": [
              "Index(['critic_rating', 'is_action', 'is_exclusive_to_us', 'is_portable',\n",
              "       'is_role_playing', 'is_sequel', 'is_sports', 'suitable_for_kids',\n",
              "       'total_earnings', 'unit_price'],\n",
              "      dtype='object')"
            ]
          },
          "metadata": {
            "tags": []
          },
          "execution_count": 26
        }
      ]
    },
    {
      "metadata": {
        "id": "vl5Izz00Svpx",
        "colab_type": "code",
        "colab": {}
      },
      "cell_type": "code",
      "source": [
        "X = Data_Training.drop('total_earnings', axis=1).values\n",
        "y = Data_Training[['total_earnings']].values\n",
        "\n",
        "X_test = Data_Test.drop('total_earnings', axis=1).values\n",
        "y_test  = Data_Test[['total_earnings']].values"
      ],
      "execution_count": 0,
      "outputs": []
    },
    {
      "metadata": {
        "id": "ejBuTwf0a1UL",
        "colab_type": "code",
        "colab": {}
      },
      "cell_type": "code",
      "source": [
        "import tensorflowjs as tfjs"
      ],
      "execution_count": 0,
      "outputs": []
    },
    {
      "metadata": {
        "id": "zjz4QCYXTJYZ",
        "colab_type": "code",
        "colab": {}
      },
      "cell_type": "code",
      "source": [
        "#Define Model\n",
        "\n",
        "model =Sequential()\n",
        "model.add(Dense(50, input_dim=9, activation='relu'))\n",
        "model.add(Dense(100, activation='relu'))\n",
        "model.add(Dense(50, activation='relu'))\n",
        "model.add(Dense(1, activation='linear'))\n",
        "model.compile(loss=\"mean_squared_error\", optimizer=\"adam\")\n",
        "\n",
        "\n"
      ],
      "execution_count": 0,
      "outputs": []
    },
    {
      "metadata": {
        "id": "3cNHA8TDUlux",
        "colab_type": "code",
        "outputId": "637da633-4fa0-4d91-9bd8-647997812bee",
        "colab": {
          "base_uri": "https://localhost:8080/",
          "height": 10234
        }
      },
      "cell_type": "code",
      "source": [
        "#Training Section\n",
        "\n",
        "model.fit(X,y,epochs=300,shuffle=True,verbose=2)"
      ],
      "execution_count": 0,
      "outputs": [
        {
          "output_type": "stream",
          "text": [
            "Epoch 1/300\n",
            " - 0s - loss: 6.0754e-05\n",
            "Epoch 2/300\n",
            " - 0s - loss: 2.9895e-05\n",
            "Epoch 3/300\n",
            " - 0s - loss: 3.8617e-05\n",
            "Epoch 4/300\n",
            " - 0s - loss: 6.2188e-05\n",
            "Epoch 5/300\n",
            " - 0s - loss: 5.4847e-05\n",
            "Epoch 6/300\n",
            " - 0s - loss: 4.4865e-05\n",
            "Epoch 7/300\n",
            " - 0s - loss: 4.0578e-05\n",
            "Epoch 8/300\n",
            " - 0s - loss: 3.4013e-05\n",
            "Epoch 9/300\n",
            " - 0s - loss: 5.1066e-05\n",
            "Epoch 10/300\n",
            " - 0s - loss: 3.6629e-05\n",
            "Epoch 11/300\n",
            " - 0s - loss: 3.1301e-05\n",
            "Epoch 12/300\n",
            " - 0s - loss: 2.0734e-05\n",
            "Epoch 13/300\n",
            " - 0s - loss: 2.9557e-05\n",
            "Epoch 14/300\n",
            " - 0s - loss: 4.3940e-05\n",
            "Epoch 15/300\n",
            " - 0s - loss: 6.4549e-05\n",
            "Epoch 16/300\n",
            " - 0s - loss: 5.8125e-05\n",
            "Epoch 17/300\n",
            " - 0s - loss: 6.4150e-05\n",
            "Epoch 18/300\n",
            " - 0s - loss: 4.0431e-05\n",
            "Epoch 19/300\n",
            " - 0s - loss: 3.9697e-05\n",
            "Epoch 20/300\n",
            " - 0s - loss: 3.6693e-05\n",
            "Epoch 21/300\n",
            " - 0s - loss: 4.2636e-05\n",
            "Epoch 22/300\n",
            " - 0s - loss: 2.7345e-05\n",
            "Epoch 23/300\n",
            " - 0s - loss: 2.7889e-05\n",
            "Epoch 24/300\n",
            " - 0s - loss: 4.4503e-05\n",
            "Epoch 25/300\n",
            " - 0s - loss: 4.6652e-05\n",
            "Epoch 26/300\n",
            " - 0s - loss: 3.5105e-05\n",
            "Epoch 27/300\n",
            " - 0s - loss: 2.3277e-05\n",
            "Epoch 28/300\n",
            " - 0s - loss: 2.9853e-05\n",
            "Epoch 29/300\n",
            " - 0s - loss: 4.1479e-05\n",
            "Epoch 30/300\n",
            " - 0s - loss: 6.6072e-05\n",
            "Epoch 31/300\n",
            " - 0s - loss: 5.5237e-05\n",
            "Epoch 32/300\n",
            " - 0s - loss: 4.5427e-05\n",
            "Epoch 33/300\n",
            " - 0s - loss: 4.8077e-05\n",
            "Epoch 34/300\n",
            " - 0s - loss: 5.2381e-05\n",
            "Epoch 35/300\n",
            " - 0s - loss: 8.8940e-05\n",
            "Epoch 36/300\n",
            " - 0s - loss: 5.2849e-05\n",
            "Epoch 37/300\n",
            " - 0s - loss: 1.0632e-04\n",
            "Epoch 38/300\n",
            " - 0s - loss: 1.1042e-04\n",
            "Epoch 39/300\n",
            " - 0s - loss: 5.4411e-05\n",
            "Epoch 40/300\n",
            " - 0s - loss: 7.5047e-05\n",
            "Epoch 41/300\n",
            " - 0s - loss: 3.6406e-05\n",
            "Epoch 42/300\n",
            " - 0s - loss: 2.5045e-05\n",
            "Epoch 43/300\n",
            " - 0s - loss: 3.1796e-05\n",
            "Epoch 44/300\n",
            " - 0s - loss: 2.2518e-05\n",
            "Epoch 45/300\n",
            " - 0s - loss: 2.1183e-05\n",
            "Epoch 46/300\n",
            " - 0s - loss: 1.7094e-05\n",
            "Epoch 47/300\n",
            " - 0s - loss: 2.6981e-05\n",
            "Epoch 48/300\n",
            " - 0s - loss: 2.6222e-05\n",
            "Epoch 49/300\n",
            " - 0s - loss: 1.9574e-05\n",
            "Epoch 50/300\n",
            " - 0s - loss: 2.6092e-05\n",
            "Epoch 51/300\n",
            " - 0s - loss: 2.2156e-05\n",
            "Epoch 52/300\n",
            " - 0s - loss: 3.1062e-05\n",
            "Epoch 53/300\n",
            " - 0s - loss: 2.6816e-05\n",
            "Epoch 54/300\n",
            " - 0s - loss: 3.7311e-05\n",
            "Epoch 55/300\n",
            " - 0s - loss: 2.8700e-05\n",
            "Epoch 56/300\n",
            " - 0s - loss: 3.9472e-05\n",
            "Epoch 57/300\n",
            " - 0s - loss: 2.2989e-05\n",
            "Epoch 58/300\n",
            " - 0s - loss: 1.5791e-05\n",
            "Epoch 59/300\n",
            " - 0s - loss: 1.7937e-05\n",
            "Epoch 60/300\n",
            " - 0s - loss: 1.9818e-05\n",
            "Epoch 61/300\n",
            " - 0s - loss: 2.7556e-05\n",
            "Epoch 62/300\n",
            " - 0s - loss: 2.1478e-05\n",
            "Epoch 63/300\n",
            " - 0s - loss: 1.9284e-05\n",
            "Epoch 64/300\n",
            " - 0s - loss: 2.1964e-05\n",
            "Epoch 65/300\n",
            " - 0s - loss: 3.4574e-05\n",
            "Epoch 66/300\n",
            " - 0s - loss: 2.4728e-05\n",
            "Epoch 67/300\n",
            " - 0s - loss: 3.1104e-05\n",
            "Epoch 68/300\n",
            " - 0s - loss: 4.1461e-05\n",
            "Epoch 69/300\n",
            " - 0s - loss: 7.9037e-05\n",
            "Epoch 70/300\n",
            " - 0s - loss: 3.9671e-05\n",
            "Epoch 71/300\n",
            " - 0s - loss: 3.9524e-05\n",
            "Epoch 72/300\n",
            " - 0s - loss: 7.1562e-05\n",
            "Epoch 73/300\n",
            " - 0s - loss: 3.7433e-05\n",
            "Epoch 74/300\n",
            " - 0s - loss: 3.0635e-05\n",
            "Epoch 75/300\n",
            " - 0s - loss: 4.3254e-05\n",
            "Epoch 76/300\n",
            " - 0s - loss: 2.4108e-05\n",
            "Epoch 77/300\n",
            " - 0s - loss: 2.1455e-05\n",
            "Epoch 78/300\n",
            " - 0s - loss: 1.9099e-05\n",
            "Epoch 79/300\n",
            " - 0s - loss: 2.3490e-05\n",
            "Epoch 80/300\n",
            " - 0s - loss: 1.4866e-05\n",
            "Epoch 81/300\n",
            " - 0s - loss: 2.3690e-05\n",
            "Epoch 82/300\n",
            " - 0s - loss: 5.0864e-05\n",
            "Epoch 83/300\n",
            " - 0s - loss: 3.9471e-05\n",
            "Epoch 84/300\n",
            " - 0s - loss: 2.1721e-05\n",
            "Epoch 85/300\n",
            " - 0s - loss: 5.1766e-05\n",
            "Epoch 86/300\n",
            " - 0s - loss: 4.3587e-05\n",
            "Epoch 87/300\n",
            " - 0s - loss: 5.7731e-05\n",
            "Epoch 88/300\n",
            " - 0s - loss: 5.1611e-05\n",
            "Epoch 89/300\n",
            " - 0s - loss: 4.1279e-05\n",
            "Epoch 90/300\n",
            " - 0s - loss: 3.1266e-05\n",
            "Epoch 91/300\n",
            " - 0s - loss: 2.8043e-05\n",
            "Epoch 92/300\n",
            " - 0s - loss: 2.6720e-05\n",
            "Epoch 93/300\n",
            " - 0s - loss: 3.0581e-05\n",
            "Epoch 94/300\n",
            " - 0s - loss: 4.7288e-05\n",
            "Epoch 95/300\n",
            " - 0s - loss: 4.0404e-05\n",
            "Epoch 96/300\n",
            " - 0s - loss: 4.6232e-05\n",
            "Epoch 97/300\n",
            " - 0s - loss: 2.8917e-05\n",
            "Epoch 98/300\n",
            " - 0s - loss: 2.4045e-05\n",
            "Epoch 99/300\n",
            " - 0s - loss: 2.7618e-05\n",
            "Epoch 100/300\n",
            " - 0s - loss: 4.8400e-05\n",
            "Epoch 101/300\n",
            " - 0s - loss: 3.6171e-05\n",
            "Epoch 102/300\n",
            " - 0s - loss: 3.8675e-05\n",
            "Epoch 103/300\n",
            " - 0s - loss: 2.8225e-05\n",
            "Epoch 104/300\n",
            " - 0s - loss: 2.1060e-05\n",
            "Epoch 105/300\n",
            " - 0s - loss: 3.2859e-05\n",
            "Epoch 106/300\n",
            " - 0s - loss: 1.8978e-05\n",
            "Epoch 107/300\n",
            " - 0s - loss: 4.1523e-05\n",
            "Epoch 108/300\n",
            " - 0s - loss: 4.5222e-05\n",
            "Epoch 109/300\n",
            " - 0s - loss: 4.9863e-05\n",
            "Epoch 110/300\n",
            " - 0s - loss: 3.0164e-05\n",
            "Epoch 111/300\n",
            " - 0s - loss: 2.6917e-05\n",
            "Epoch 112/300\n",
            " - 0s - loss: 2.0829e-05\n",
            "Epoch 113/300\n",
            " - 0s - loss: 3.7336e-05\n",
            "Epoch 114/300\n",
            " - 0s - loss: 3.7106e-05\n",
            "Epoch 115/300\n",
            " - 0s - loss: 2.9540e-05\n",
            "Epoch 116/300\n",
            " - 0s - loss: 4.1628e-05\n",
            "Epoch 117/300\n",
            " - 0s - loss: 3.9881e-05\n",
            "Epoch 118/300\n",
            " - 0s - loss: 2.1853e-05\n",
            "Epoch 119/300\n",
            " - 0s - loss: 2.3853e-05\n",
            "Epoch 120/300\n",
            " - 0s - loss: 5.4189e-05\n",
            "Epoch 121/300\n",
            " - 0s - loss: 3.8180e-05\n",
            "Epoch 122/300\n",
            " - 0s - loss: 2.2493e-05\n",
            "Epoch 123/300\n",
            " - 0s - loss: 2.1175e-05\n",
            "Epoch 124/300\n",
            " - 0s - loss: 3.1561e-05\n",
            "Epoch 125/300\n",
            " - 0s - loss: 1.8249e-05\n",
            "Epoch 126/300\n",
            " - 0s - loss: 1.8788e-05\n",
            "Epoch 127/300\n",
            " - 0s - loss: 2.0692e-05\n",
            "Epoch 128/300\n",
            " - 0s - loss: 2.4206e-05\n",
            "Epoch 129/300\n",
            " - 0s - loss: 4.5762e-05\n",
            "Epoch 130/300\n",
            " - 0s - loss: 4.1828e-05\n",
            "Epoch 131/300\n",
            " - 0s - loss: 2.7677e-05\n",
            "Epoch 132/300\n",
            " - 0s - loss: 3.6084e-05\n",
            "Epoch 133/300\n",
            " - 0s - loss: 2.7608e-05\n",
            "Epoch 134/300\n",
            " - 0s - loss: 1.7515e-05\n",
            "Epoch 135/300\n",
            " - 0s - loss: 2.2077e-05\n",
            "Epoch 136/300\n",
            " - 0s - loss: 2.7393e-05\n",
            "Epoch 137/300\n",
            " - 0s - loss: 2.1906e-05\n",
            "Epoch 138/300\n",
            " - 0s - loss: 2.8558e-05\n",
            "Epoch 139/300\n",
            " - 0s - loss: 2.2115e-05\n",
            "Epoch 140/300\n",
            " - 0s - loss: 3.0517e-05\n",
            "Epoch 141/300\n",
            " - 0s - loss: 3.3726e-05\n",
            "Epoch 142/300\n",
            " - 0s - loss: 3.0225e-05\n",
            "Epoch 143/300\n",
            " - 0s - loss: 6.7660e-05\n",
            "Epoch 144/300\n",
            " - 0s - loss: 5.8229e-05\n",
            "Epoch 145/300\n",
            " - 0s - loss: 5.9301e-05\n",
            "Epoch 146/300\n",
            " - 0s - loss: 3.5895e-05\n",
            "Epoch 147/300\n",
            " - 0s - loss: 2.7694e-05\n",
            "Epoch 148/300\n",
            " - 0s - loss: 3.4209e-05\n",
            "Epoch 149/300\n",
            " - 0s - loss: 3.7855e-05\n",
            "Epoch 150/300\n",
            " - 0s - loss: 3.9223e-05\n",
            "Epoch 151/300\n",
            " - 0s - loss: 3.0872e-05\n",
            "Epoch 152/300\n",
            " - 0s - loss: 2.2145e-05\n",
            "Epoch 153/300\n",
            " - 0s - loss: 3.7969e-05\n",
            "Epoch 154/300\n",
            " - 0s - loss: 2.0589e-05\n",
            "Epoch 155/300\n",
            " - 0s - loss: 2.0329e-05\n",
            "Epoch 156/300\n",
            " - 0s - loss: 2.3417e-05\n",
            "Epoch 157/300\n",
            " - 0s - loss: 3.6176e-05\n",
            "Epoch 158/300\n",
            " - 0s - loss: 2.5059e-05\n",
            "Epoch 159/300\n",
            " - 0s - loss: 3.0955e-05\n",
            "Epoch 160/300\n",
            " - 0s - loss: 2.5296e-05\n",
            "Epoch 161/300\n",
            " - 0s - loss: 2.3193e-05\n",
            "Epoch 162/300\n",
            " - 0s - loss: 2.1557e-05\n",
            "Epoch 163/300\n",
            " - 0s - loss: 2.5518e-05\n",
            "Epoch 164/300\n",
            " - 0s - loss: 2.4794e-05\n",
            "Epoch 165/300\n",
            " - 0s - loss: 2.1250e-05\n",
            "Epoch 166/300\n",
            " - 0s - loss: 3.5518e-05\n",
            "Epoch 167/300\n",
            " - 0s - loss: 7.0700e-05\n",
            "Epoch 168/300\n",
            " - 0s - loss: 8.7798e-05\n",
            "Epoch 169/300\n",
            " - 0s - loss: 4.2122e-05\n",
            "Epoch 170/300\n",
            " - 0s - loss: 2.9656e-05\n",
            "Epoch 171/300\n",
            " - 0s - loss: 2.9088e-05\n",
            "Epoch 172/300\n",
            " - 0s - loss: 1.7108e-05\n",
            "Epoch 173/300\n",
            " - 0s - loss: 1.8615e-05\n",
            "Epoch 174/300\n",
            " - 0s - loss: 2.1959e-05\n",
            "Epoch 175/300\n",
            " - 0s - loss: 1.9821e-05\n",
            "Epoch 176/300\n",
            " - 0s - loss: 2.2401e-05\n",
            "Epoch 177/300\n",
            " - 0s - loss: 1.6306e-05\n",
            "Epoch 178/300\n",
            " - 0s - loss: 1.5727e-05\n",
            "Epoch 179/300\n",
            " - 0s - loss: 3.4059e-05\n",
            "Epoch 180/300\n",
            " - 0s - loss: 2.7162e-05\n",
            "Epoch 181/300\n",
            " - 0s - loss: 1.8411e-05\n",
            "Epoch 182/300\n",
            " - 0s - loss: 1.7477e-05\n",
            "Epoch 183/300\n",
            " - 0s - loss: 1.8426e-05\n",
            "Epoch 184/300\n",
            " - 0s - loss: 2.3106e-05\n",
            "Epoch 185/300\n",
            " - 0s - loss: 1.9388e-05\n",
            "Epoch 186/300\n",
            " - 0s - loss: 2.9629e-05\n",
            "Epoch 187/300\n",
            " - 0s - loss: 2.9944e-05\n",
            "Epoch 188/300\n",
            " - 0s - loss: 2.4489e-05\n",
            "Epoch 189/300\n",
            " - 0s - loss: 1.6816e-05\n",
            "Epoch 190/300\n",
            " - 0s - loss: 2.1004e-05\n",
            "Epoch 191/300\n",
            " - 0s - loss: 1.8703e-05\n",
            "Epoch 192/300\n",
            " - 0s - loss: 4.0525e-05\n",
            "Epoch 193/300\n",
            " - 0s - loss: 4.8267e-05\n",
            "Epoch 194/300\n",
            " - 0s - loss: 2.2331e-05\n",
            "Epoch 195/300\n",
            " - 0s - loss: 3.3448e-05\n",
            "Epoch 196/300\n",
            " - 0s - loss: 1.8548e-05\n",
            "Epoch 197/300\n",
            " - 0s - loss: 1.5833e-05\n",
            "Epoch 198/300\n",
            " - 0s - loss: 2.1148e-05\n",
            "Epoch 199/300\n",
            " - 0s - loss: 2.4678e-05\n",
            "Epoch 200/300\n",
            " - 0s - loss: 1.6969e-05\n",
            "Epoch 201/300\n",
            " - 0s - loss: 1.9278e-05\n",
            "Epoch 202/300\n",
            " - 0s - loss: 2.7104e-05\n",
            "Epoch 203/300\n",
            " - 0s - loss: 7.9484e-05\n",
            "Epoch 204/300\n",
            " - 0s - loss: 2.9588e-05\n",
            "Epoch 205/300\n",
            " - 0s - loss: 3.4230e-05\n",
            "Epoch 206/300\n",
            " - 0s - loss: 2.8539e-05\n",
            "Epoch 207/300\n",
            " - 0s - loss: 4.5050e-05\n",
            "Epoch 208/300\n",
            " - 0s - loss: 3.7595e-05\n",
            "Epoch 209/300\n",
            " - 0s - loss: 5.4015e-05\n",
            "Epoch 210/300\n",
            " - 0s - loss: 4.1217e-05\n",
            "Epoch 211/300\n",
            " - 0s - loss: 2.6186e-05\n",
            "Epoch 212/300\n",
            " - 0s - loss: 1.9630e-05\n",
            "Epoch 213/300\n",
            " - 0s - loss: 3.0252e-05\n",
            "Epoch 214/300\n",
            " - 0s - loss: 2.8998e-05\n",
            "Epoch 215/300\n",
            " - 0s - loss: 2.1271e-05\n",
            "Epoch 216/300\n",
            " - 0s - loss: 2.3787e-05\n",
            "Epoch 217/300\n",
            " - 0s - loss: 2.2312e-05\n",
            "Epoch 218/300\n",
            " - 0s - loss: 1.5721e-05\n",
            "Epoch 219/300\n",
            " - 0s - loss: 1.8540e-05\n",
            "Epoch 220/300\n",
            " - 0s - loss: 1.9745e-05\n",
            "Epoch 221/300\n",
            " - 0s - loss: 2.1883e-05\n",
            "Epoch 222/300\n",
            " - 0s - loss: 4.1884e-05\n",
            "Epoch 223/300\n",
            " - 0s - loss: 3.3965e-05\n",
            "Epoch 224/300\n",
            " - 0s - loss: 5.1404e-05\n",
            "Epoch 225/300\n",
            " - 0s - loss: 5.6762e-05\n",
            "Epoch 226/300\n",
            " - 0s - loss: 1.1693e-04\n",
            "Epoch 227/300\n",
            " - 0s - loss: 5.3263e-05\n",
            "Epoch 228/300\n",
            " - 0s - loss: 3.2209e-05\n",
            "Epoch 229/300\n",
            " - 0s - loss: 2.5136e-05\n",
            "Epoch 230/300\n",
            " - 0s - loss: 1.7756e-05\n",
            "Epoch 231/300\n",
            " - 0s - loss: 1.5760e-05\n",
            "Epoch 232/300\n",
            " - 0s - loss: 1.5138e-05\n",
            "Epoch 233/300\n",
            " - 0s - loss: 1.5205e-05\n",
            "Epoch 234/300\n",
            " - 0s - loss: 1.4584e-05\n",
            "Epoch 235/300\n",
            " - 0s - loss: 1.5992e-05\n",
            "Epoch 236/300\n",
            " - 0s - loss: 1.8997e-05\n",
            "Epoch 237/300\n",
            " - 0s - loss: 2.0311e-05\n",
            "Epoch 238/300\n",
            " - 0s - loss: 1.7630e-05\n",
            "Epoch 239/300\n",
            " - 0s - loss: 1.6735e-05\n",
            "Epoch 240/300\n",
            " - 0s - loss: 4.8068e-05\n",
            "Epoch 241/300\n",
            " - 0s - loss: 2.8888e-05\n",
            "Epoch 242/300\n",
            " - 0s - loss: 2.9929e-05\n",
            "Epoch 243/300\n",
            " - 0s - loss: 1.6180e-05\n",
            "Epoch 244/300\n",
            " - 0s - loss: 2.0333e-05\n",
            "Epoch 245/300\n",
            " - 0s - loss: 1.8032e-05\n",
            "Epoch 246/300\n",
            " - 0s - loss: 1.4315e-05\n",
            "Epoch 247/300\n",
            " - 0s - loss: 2.0843e-05\n",
            "Epoch 248/300\n",
            " - 0s - loss: 2.8148e-05\n",
            "Epoch 249/300\n",
            " - 0s - loss: 3.2890e-05\n",
            "Epoch 250/300\n",
            " - 0s - loss: 2.6509e-05\n",
            "Epoch 251/300\n",
            " - 0s - loss: 1.6592e-05\n",
            "Epoch 252/300\n",
            " - 0s - loss: 3.1782e-05\n",
            "Epoch 253/300\n",
            " - 0s - loss: 2.2493e-05\n",
            "Epoch 254/300\n",
            " - 0s - loss: 2.1047e-05\n",
            "Epoch 255/300\n",
            " - 0s - loss: 1.9241e-05\n",
            "Epoch 256/300\n",
            " - 0s - loss: 1.6510e-05\n",
            "Epoch 257/300\n",
            " - 0s - loss: 1.6036e-05\n",
            "Epoch 258/300\n",
            " - 0s - loss: 3.3539e-05\n",
            "Epoch 259/300\n",
            " - 0s - loss: 2.6150e-05\n",
            "Epoch 260/300\n",
            " - 0s - loss: 2.1537e-05\n",
            "Epoch 261/300\n",
            " - 0s - loss: 1.7122e-05\n",
            "Epoch 262/300\n",
            " - 0s - loss: 2.0651e-05\n",
            "Epoch 263/300\n",
            " - 0s - loss: 1.4256e-05\n",
            "Epoch 264/300\n",
            " - 0s - loss: 1.5801e-05\n",
            "Epoch 265/300\n",
            " - 0s - loss: 1.8401e-05\n",
            "Epoch 266/300\n",
            " - 0s - loss: 1.6169e-05\n",
            "Epoch 267/300\n",
            " - 0s - loss: 1.4763e-05\n",
            "Epoch 268/300\n",
            " - 0s - loss: 2.0188e-05\n",
            "Epoch 269/300\n",
            " - 0s - loss: 2.3054e-05\n",
            "Epoch 270/300\n",
            " - 0s - loss: 2.4739e-05\n",
            "Epoch 271/300\n",
            " - 0s - loss: 2.5651e-05\n",
            "Epoch 272/300\n",
            " - 0s - loss: 2.1237e-05\n",
            "Epoch 273/300\n",
            " - 0s - loss: 3.1022e-05\n",
            "Epoch 274/300\n",
            " - 0s - loss: 2.6332e-05\n",
            "Epoch 275/300\n",
            " - 0s - loss: 1.6632e-05\n",
            "Epoch 276/300\n",
            " - 0s - loss: 2.4913e-05\n",
            "Epoch 277/300\n",
            " - 0s - loss: 3.2511e-05\n",
            "Epoch 278/300\n",
            " - 0s - loss: 1.7242e-05\n",
            "Epoch 279/300\n",
            " - 0s - loss: 2.1234e-05\n",
            "Epoch 280/300\n",
            " - 0s - loss: 2.1393e-05\n",
            "Epoch 281/300\n",
            " - 0s - loss: 2.7076e-05\n",
            "Epoch 282/300\n",
            " - 0s - loss: 2.9417e-05\n",
            "Epoch 283/300\n",
            " - 0s - loss: 1.8428e-05\n",
            "Epoch 284/300\n",
            " - 0s - loss: 1.9974e-05\n",
            "Epoch 285/300\n",
            " - 0s - loss: 1.6558e-05\n",
            "Epoch 286/300\n",
            " - 0s - loss: 2.0474e-05\n",
            "Epoch 287/300\n",
            " - 0s - loss: 2.2042e-05\n",
            "Epoch 288/300\n",
            " - 0s - loss: 1.4221e-05\n",
            "Epoch 289/300\n",
            " - 0s - loss: 2.6432e-05\n",
            "Epoch 290/300\n",
            " - 0s - loss: 2.6128e-05\n",
            "Epoch 291/300\n",
            " - 0s - loss: 2.6180e-05\n",
            "Epoch 292/300\n",
            " - 0s - loss: 1.7405e-05\n",
            "Epoch 293/300\n",
            " - 0s - loss: 2.2342e-05\n",
            "Epoch 294/300\n",
            " - 0s - loss: 2.4321e-05\n",
            "Epoch 295/300\n",
            " - 0s - loss: 3.3505e-05\n",
            "Epoch 296/300\n",
            " - 0s - loss: 1.5693e-05\n",
            "Epoch 297/300\n",
            " - 0s - loss: 2.3424e-05\n",
            "Epoch 298/300\n",
            " - 0s - loss: 3.5061e-05\n",
            "Epoch 299/300\n",
            " - 0s - loss: 2.0916e-05\n",
            "Epoch 300/300\n",
            " - 0s - loss: 1.6231e-05\n"
          ],
          "name": "stdout"
        },
        {
          "output_type": "execute_result",
          "data": {
            "text/plain": [
              "<keras.callbacks.History at 0x7f9c4c545198>"
            ]
          },
          "metadata": {
            "tags": []
          },
          "execution_count": 84
        }
      ]
    },
    {
      "metadata": {
        "id": "SxB-G0TfU5WV",
        "colab_type": "code",
        "outputId": "09f0823a-3baa-45dd-82b2-56a7407aade4",
        "colab": {
          "base_uri": "https://localhost:8080/",
          "height": 34
        }
      },
      "cell_type": "code",
      "source": [
        "Error_Rate = model.evaluate(X_test, y_test, verbose=0)\n",
        "print(\"ini nilai errornya {}\".format(Error_Rate))"
      ],
      "execution_count": 0,
      "outputs": [
        {
          "output_type": "stream",
          "text": [
            "ini nilai errornya 4.42079349886626e-05\n"
          ],
          "name": "stdout"
        }
      ]
    },
    {
      "metadata": {
        "id": "mjpKVXB4WCF6",
        "colab_type": "text"
      },
      "cell_type": "markdown",
      "source": [
        "# SAVE MODEL"
      ]
    },
    {
      "metadata": {
        "id": "BwKvRVE-WELL",
        "colab_type": "code",
        "outputId": "a6f51055-5d7c-4ae4-8384-b051d428cdde",
        "colab": {
          "base_uri": "https://localhost:8080/",
          "height": 34
        }
      },
      "cell_type": "code",
      "source": [
        "model.save(\"3ndung.h5\")\n",
        "print(\"model h5 Saved\")\n",
        "\n"
      ],
      "execution_count": 0,
      "outputs": [
        {
          "output_type": "stream",
          "text": [
            "model h5 Saved\n"
          ],
          "name": "stdout"
        }
      ]
    },
    {
      "metadata": {
        "id": "Vg1TxpRmbnPa",
        "colab_type": "code",
        "outputId": "fc575893-7e63-4cfe-a807-8f28b9a3c9e6",
        "colab": {
          "base_uri": "https://localhost:8080/",
          "height": 125
        }
      },
      "cell_type": "code",
      "source": [
        "cat proposed_new_product.csv"
      ],
      "execution_count": 0,
      "outputs": [
        {
          "output_type": "stream",
          "text": [
            "critic_rating,is_action,is_exclusive_to_us,is_portable,is_role_playing,is_sequel,is_sports,suitable_for_kids,unit_price\n",
            "0.7,1.0,1.0,1.0,0.0,1.0,0.0,1.0,0.8"
          ],
          "name": "stdout"
        }
      ]
    },
    {
      "metadata": {
        "id": "Weh7gP6JbZT5",
        "colab_type": "code",
        "colab": {}
      },
      "cell_type": "code",
      "source": [
        "tfjs.converters.save_keras_model(model, 'model_tf')"
      ],
      "execution_count": 0,
      "outputs": []
    },
    {
      "metadata": {
        "id": "x9t6fyU6WuuR",
        "colab_type": "text"
      },
      "cell_type": "markdown",
      "source": [
        "# Download the model for next_project\n"
      ]
    },
    {
      "metadata": {
        "id": "2fhuC-8yWzys",
        "colab_type": "code",
        "colab": {}
      },
      "cell_type": "code",
      "source": [
        "from google.colab import files\n",
        "\n",
        "files.download('model_tf/model.json')"
      ],
      "execution_count": 0,
      "outputs": []
    },
    {
      "metadata": {
        "id": "Fd7c5i8feBkZ",
        "colab_type": "code",
        "outputId": "f3601276-5013-404a-8ca5-04cb57ffaefe",
        "colab": {
          "base_uri": "https://localhost:8080/",
          "height": 82
        }
      },
      "cell_type": "code",
      "source": [
        "ls"
      ],
      "execution_count": 0,
      "outputs": [
        {
          "output_type": "stream",
          "text": [
            "3ndung.h5  proposed_new_product.csv  sales_data_training.csv  test.csv\n",
            "\u001b[0m\u001b[01;34mmodel_tf\u001b[0m/  sales_data_test.csv       \u001b[01;34msample_data\u001b[0m/             training.csv\n"
          ],
          "name": "stdout"
        }
      ]
    },
    {
      "metadata": {
        "id": "Z0q0yoYBenUU",
        "colab_type": "code",
        "colab": {}
      },
      "cell_type": "code",
      "source": [
        "predict = pd.read_csv(\"/content/proposed_new_product.csv\").values\n",
        "Prediction = model.predict(predict)"
      ],
      "execution_count": 0,
      "outputs": []
    },
    {
      "metadata": {
        "id": "o_X0ZAmUe93-",
        "colab_type": "code",
        "colab": {}
      },
      "cell_type": "code",
      "source": [
        "Prediction = Prediction[0][0]"
      ],
      "execution_count": 0,
      "outputs": []
    },
    {
      "metadata": {
        "id": "4H-VLJO5fFwR",
        "colab_type": "code",
        "outputId": "5ff3497c-31a6-45fb-b694-65b049d58853",
        "colab": {
          "base_uri": "https://localhost:8080/",
          "height": 34
        }
      },
      "cell_type": "code",
      "source": [
        "Prediction = Prediction + 0.1159\n",
        "Prediction = Prediction / 0.0000036968\n",
        "\n",
        "print(\" Nilai Prediksi --> {}\".format(Prediction))"
      ],
      "execution_count": 0,
      "outputs": [
        {
          "output_type": "stream",
          "text": [
            " Nilai Prediksi --> 262849.2656091518\n"
          ],
          "name": "stdout"
        }
      ]
    }
  ]
}